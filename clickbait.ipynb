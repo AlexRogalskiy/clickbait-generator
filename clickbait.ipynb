{
 "cells": [
  {
   "cell_type": "markdown",
   "metadata": {},
   "source": [
    "# Clickbait Generator\n",
    "Give me those clicks!!!\n",
    "Data taken from https://github.com/bhargaviparanjape/clickbait"
   ]
  },
  {
   "cell_type": "markdown",
   "metadata": {},
   "source": [
    "## Data Collection\n",
    "1. Download source file\n",
    "2. Extract archive"
   ]
  },
  {
   "cell_type": "code",
   "execution_count": null,
   "metadata": {},
   "outputs": [],
   "source": [
    "import os\n",
    "import requests"
   ]
  },
  {
   "cell_type": "code",
   "execution_count": null,
   "metadata": {},
   "outputs": [],
   "source": [
    "data_file = \"clickbait.gz\"\n",
    "\n",
    "def download_data():\n",
    "    \n",
    "    if os.path.exists(data_file):\n",
    "        print(\"Found data file, not downloading\")\n",
    "        return\n",
    "    \n",
    "    print(\"Downloading data...\")\n",
    "    \n",
    "    zip_file = requests.get(\"https://raw.githubusercontent.com/bhargaviparanjape/clickbait/master/dataset/clickbait_data.gz\")\n",
    "\n",
    "    with open(data_file, \"wb+\") as f:\n",
    "        f.write(zip_file.content)\n",
    "        \n",
    "\n",
    "    "
   ]
  },
  {
   "cell_type": "code",
   "execution_count": null,
   "metadata": {},
   "outputs": [],
   "source": [
    "download_data()"
   ]
  },
  {
   "cell_type": "markdown",
   "metadata": {},
   "source": [
    "## Data Processing\n",
    "1. Extract archived data\n",
    "2. Add end_of_headline terminator word\n",
    "3. Tokenize titles\n",
    "4. Split into X and Y data"
   ]
  },
  {
   "cell_type": "code",
   "execution_count": null,
   "metadata": {},
   "outputs": [],
   "source": [
    "from tensorflow.keras.preprocessing.text import Tokenizer\n",
    "from tensorflow.keras.preprocessing.sequence import pad_sequences\n",
    "from tensorflow.keras.utils import to_categorical\n",
    "import gzip\n",
    "import numpy as np\n",
    "\n",
    "vocab_size = 8000\n",
    "sample_length = 20\n",
    "step = 2\n",
    "end_of_headline = 'eoh'"
   ]
  },
  {
   "cell_type": "code",
   "execution_count": null,
   "metadata": {},
   "outputs": [],
   "source": [
    "def load_text():\n",
    "    with gzip.open(data_file, 'rt') as f:\n",
    "        return f.read().replace('\\n\\n', f\" {end_of_headline} \")\n",
    "\n",
    "def split_into_samples(text):\n",
    "    samples = []\n",
    "    next_words = []\n",
    "    \n",
    "    for i in range(0, len(text) - sample_length, step):\n",
    "        samples.append(text[i:i + sample_length])\n",
    "        next_words.append(text[i+sample_length])\n",
    "    \n",
    "    p = np.random.permutation(len(samples))\n",
    "    return np.asarray(samples)[p], np.asarray(next_words)[p]"
   ]
  },
  {
   "cell_type": "code",
   "execution_count": null,
   "metadata": {},
   "outputs": [],
   "source": [
    "np.random.seed(0)\n",
    "\n",
    "text = load_text()\n",
    "\n",
    "tokenizer = Tokenizer(num_words=vocab_size)\n",
    "tokenizer.fit_on_texts([text])\n",
    "text = tokenizer.texts_to_sequences([text])[0]\n",
    "X, Y = split_into_samples(text)\n",
    "\n",
    "print(f\"{len(tokenizer.word_index)} total words\")\n",
    "print(f\"{len(X)} samples\")\n",
    "Y = to_categorical(Y, num_classes=vocab_size)\n"
   ]
  },
  {
   "cell_type": "markdown",
   "metadata": {},
   "source": [
    "## LSTM Model\n",
    "Uses GloVe word embeddings"
   ]
  },
  {
   "cell_type": "code",
   "execution_count": null,
   "metadata": {},
   "outputs": [],
   "source": [
    "import matplotlib.pyplot as plt\n",
    "import tensorflow.keras\n",
    "from tensorflow.keras.layers import Input, LSTM, Dense, Embedding, Dropout\n",
    "from tensorflow.keras.models import Model"
   ]
  },
  {
   "cell_type": "code",
   "execution_count": null,
   "metadata": {},
   "outputs": [],
   "source": [
    "def get_embedding_weights(tokenizer):\n",
    "    # code based on Deep Learning with Python, 6.1.3\n",
    "    glove_file = 'glove.6B.100d.txt'\n",
    "    \n",
    "    embedding_index = {}\n",
    "    \n",
    "    with open(glove_file) as f:\n",
    "        for line in f:\n",
    "            values = line.split()\n",
    "            word = values[0]\n",
    "            embedding_index[word] = np.asarray(values[1:], dtype='float32')\n",
    "            \n",
    "    embedding_dim = 100 # should match glove filename\n",
    "    \n",
    "    embedding_matrix = np.zeros((vocab_size, embedding_dim))\n",
    "    \n",
    "    not_found = []\n",
    "    \n",
    "    for word, i in tokenizer.word_index.items():\n",
    "        if i < vocab_size:\n",
    "            embedding_vector = embedding_index.get(word)\n",
    "            if embedding_vector is not None:\n",
    "                embedding_matrix[i] = embedding_vector\n",
    "                continue\n",
    "\n",
    "            # try common 's and plural endings\n",
    "            word = word.replace('\\'s', '')\n",
    "            embedding_vector = embedding_index.get(word)\n",
    "            if embedding_vector is not None:\n",
    "                embedding_matrix[i] = embedding_vector\n",
    "                continue\n",
    "\n",
    "            if word.endswith('s'):\n",
    "                word = word[:-1]\n",
    "                embedding_vector = embedding_index.get(word)\n",
    "                if embedding_vector is not None:\n",
    "                    embedding_matrix[i] = embedding_vector\n",
    "                    continue\n",
    "                \n",
    "            not_found.append(word)\n",
    "                \n",
    "    print(f\"Not found: {len(not_found)}\\n{not_found}\")\n",
    "                \n",
    "    return embedding_matrix"
   ]
  },
  {
   "cell_type": "code",
   "execution_count": null,
   "metadata": {
    "scrolled": true
   },
   "outputs": [],
   "source": [
    "embedding_weights = get_embedding_weights(tokenizer)"
   ]
  },
  {
   "cell_type": "code",
   "execution_count": null,
   "metadata": {},
   "outputs": [],
   "source": [
    "def create_model(sample_length, vocab_size, embedding_weights):\n",
    "    input_layer = Input(shape=(sample_length,))\n",
    "    \n",
    "    m = Embedding(vocab_size, 100, input_length=sample_length)(input_layer)\n",
    "    m = LSTM(256, dropout=0.5, recurrent_dropout=0.5, return_sequences=True)(m)\n",
    "    m = LSTM(256, dropout=0.5, recurrent_dropout=0.5)(m)\n",
    "    m = Dense(500, activation='relu')(m)\n",
    "    m = Dropout(0.5)(m)\n",
    "    m = Dense(vocab_size, activation='softmax')(m)\n",
    "    \n",
    "    model = Model(inputs=[input_layer], outputs=m)\n",
    "    \n",
    "    model.layers[1].set_weights([embedding_weights])\n",
    "    model.layers[1].trainable = False # todo maybe make this True\n",
    "    \n",
    "    return model\n",
    "\n",
    "def make_plots(history):\n",
    "    acc = history.history['accuracy']\n",
    "    val_acc = history.history['val_accuracy']\n",
    "    loss = history.history['loss']\n",
    "    val_loss = history.history['val_loss']\n",
    "    \n",
    "    epochs = range(1, len(acc) + 1)\n",
    "    \n",
    "    plt.plot(epochs, acc, 'bo', label='Training accuracy')\n",
    "    plt.plot(epochs, val_acc, 'b', label='Validation accuracy')\n",
    "    plt.title('Accuracy')\n",
    "    plt.legend()\n",
    "    \n",
    "    plt.figure()\n",
    "    plt.plot(epochs, loss, 'bo', label='Training loss')\n",
    "    plt.plot(epochs, val_loss, 'b', label='Validation loss')\n",
    "    plt.title('Loss')\n",
    "    plt.legend()\n",
    "    \n",
    "    plt.show()"
   ]
  },
  {
   "cell_type": "code",
   "execution_count": null,
   "metadata": {},
   "outputs": [],
   "source": [
    "model = create_model(sample_length, vocab_size, embedding_weights)\n",
    "model.compile(optimizer='adam', loss='categorical_crossentropy', metrics=['accuracy'])\n",
    "model.summary()"
   ]
  },
  {
   "cell_type": "code",
   "execution_count": null,
   "metadata": {},
   "outputs": [],
   "source": [
    "history = model.fit(X, Y, batch_size=200, epochs=15, validation_split=0.05)\n",
    "# model.save_weights('model.h5')"
   ]
  },
  {
   "cell_type": "code",
   "execution_count": null,
   "metadata": {},
   "outputs": [],
   "source": [
    "make_plots(history)"
   ]
  },
  {
   "cell_type": "markdown",
   "metadata": {},
   "source": [
    "## Prediction"
   ]
  },
  {
   "cell_type": "code",
   "execution_count": null,
   "metadata": {},
   "outputs": [],
   "source": [
    "# temperature sampling based on Deep Learning book\n",
    "def sample(preds, temperature):\n",
    "    preds = np.asarray(preds).astype('float64')\n",
    "    preds = np.log(preds) / temperature\n",
    "    exp_preds = np.exp(preds)\n",
    "    preds = exp_preds / np.sum(exp_preds)\n",
    "    probs = np.random.multinomial(1, preds, 1)\n",
    "    return np.argmax(probs)\n",
    "\n",
    "def generate_seq(model, tokenizer, seq_length, seed_text, n_words, temperature = 0.5):\n",
    "    result = seed_text.split()\n",
    "    in_text = seed_text\n",
    "    # generate a fixed number of words\n",
    "    for _ in range(n_words):\n",
    "        # encode the text as integer\n",
    "        encoded = tokenizer.texts_to_sequences([in_text])[0]\n",
    "        # truncate sequences to a fixed length\n",
    "        encoded = pad_sequences([encoded], maxlen=seq_length, truncating='pre')\n",
    "        # predict probabilities for each word\n",
    "        preds = model.predict(encoded, verbose=0)\n",
    "        yhat = sample(preds[0], temperature)\n",
    "        # map predicted word index to word\n",
    "        out_word = 'X'\n",
    "        for word, index in tokenizer.word_index.items():\n",
    "            if index == yhat:\n",
    "                out_word = word\n",
    "                break\n",
    "        if out_word == end_of_headline:\n",
    "            break\n",
    "        # append to input\n",
    "        in_text += ' ' + out_word\n",
    "        result.append(out_word)\n",
    "    return ' '.join(result)"
   ]
  },
  {
   "cell_type": "code",
   "execution_count": null,
   "metadata": {},
   "outputs": [],
   "source": [
    "for i in range(0,10):\n",
    "    output = generate_seq(model, tokenizer, sample_length, \"\", 20, .5)\n",
    "    print(f\"{i} {output}\")"
   ]
  },
  {
   "cell_type": "markdown",
   "metadata": {},
   "source": [
    "## Results\n",
    "My favorite results so far\n",
    "- we know your zodiac sign based on your zodiac sign\n",
    "- are you more like more dog or a dog\n",
    "- the 17 most important canadian celebrity moments of 2015\n",
    "- this is what it's like when you have a boyfriend\n",
    "- the new best thing you've ever been\n",
    "- are you more best or the most mermaid\n",
    "- this is what it's like to be a best of the world\n",
    "- these women are actually super\n",
    "- here's how to make a vampire\n",
    "- can you guess your favorite '90s movie based on your favorite kitten\n",
    "- are you more a canadian or taylor swift or oprah"
   ]
  },
  {
   "cell_type": "code",
   "execution_count": null,
   "metadata": {},
   "outputs": [],
   "source": []
  }
 ],
 "metadata": {
  "kernelspec": {
   "display_name": "Python 3",
   "language": "python",
   "name": "python3"
  },
  "language_info": {
   "codemirror_mode": {
    "name": "ipython",
    "version": 3
   },
   "file_extension": ".py",
   "mimetype": "text/x-python",
   "name": "python",
   "nbconvert_exporter": "python",
   "pygments_lexer": "ipython3",
   "version": "3.7.5"
  }
 },
 "nbformat": 4,
 "nbformat_minor": 4
}
