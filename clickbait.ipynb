{
 "cells": [
  {
   "cell_type": "markdown",
   "metadata": {},
   "source": [
    "# Clickbait Generator\n",
    "Give me those clicks!!!\n",
    "Data taken from https://github.com/bhargaviparanjape/clickbait"
   ]
  },
  {
   "cell_type": "markdown",
   "metadata": {},
   "source": [
    "## Data Collection\n",
    "1. Download source file\n",
    "2. Extract archive"
   ]
  },
  {
   "cell_type": "code",
   "execution_count": 1,
   "metadata": {},
   "outputs": [],
   "source": [
    "import os\n",
    "import requests"
   ]
  },
  {
   "cell_type": "code",
   "execution_count": 2,
   "metadata": {},
   "outputs": [],
   "source": [
    "data_file = \"clickbait.gz\"\n",
    "\n",
    "def download_data():\n",
    "    \n",
    "    if os.path.exists(data_file):\n",
    "        print(\"Found data file, not downloading\")\n",
    "        return\n",
    "    \n",
    "    print(\"Downloading data...\")\n",
    "    \n",
    "    zip_file = requests.get(\"https://raw.githubusercontent.com/bhargaviparanjape/clickbait/master/dataset/clickbait_data.gz\")\n",
    "\n",
    "    with open(data_file, \"wb+\") as f:\n",
    "        f.write(zip_file.content)\n",
    "        \n",
    "\n",
    "    "
   ]
  },
  {
   "cell_type": "code",
   "execution_count": 3,
   "metadata": {},
   "outputs": [
    {
     "name": "stdout",
     "output_type": "stream",
     "text": [
      "Found data file, not downloading\n"
     ]
    }
   ],
   "source": [
    "download_data()"
   ]
  },
  {
   "cell_type": "markdown",
   "metadata": {},
   "source": [
    "## Data Processing\n",
    "1. Extract archived data\n",
    "2. Add end_of_headline terminator word\n",
    "3. Tokenize titles\n",
    "4. Split into X and Y data"
   ]
  },
  {
   "cell_type": "code",
   "execution_count": 85,
   "metadata": {},
   "outputs": [],
   "source": [
    "from tensorflow.keras.preprocessing.text import Tokenizer\n",
    "from tensorflow.keras.preprocessing.sequence import pad_sequences\n",
    "from tensorflow.keras.utils import to_categorical\n",
    "import gzip\n",
    "import numpy as np\n",
    "\n",
    "vocab_size = 10000\n",
    "sample_length = 10\n",
    "step = 2\n",
    "end_of_headline = 'eoh'"
   ]
  },
  {
   "cell_type": "code",
   "execution_count": 86,
   "metadata": {},
   "outputs": [],
   "source": [
    "def load_text():\n",
    "    with gzip.open(data_file, 'rt') as f:\n",
    "        return f.read().replace('\\n\\n', f\" {end_of_headline} \")\n",
    "\n",
    "def split_into_samples(text):\n",
    "    samples = []\n",
    "    next_words = []\n",
    "    \n",
    "    for i in range(0, len(text) - sample_length, step):\n",
    "        samples.append(text[i:i + sample_length])\n",
    "        next_words.append(text[i+sample_length])\n",
    "    \n",
    "    p = np.random.permutation(len(samples))\n",
    "    return np.asarray(samples)[p], np.asarray(next_words)[p]"
   ]
  },
  {
   "cell_type": "code",
   "execution_count": 87,
   "metadata": {},
   "outputs": [
    {
     "name": "stdout",
     "output_type": "stream",
     "text": [
      "12113 total words\n",
      "87134 samples\n"
     ]
    }
   ],
   "source": [
    "np.random.seed(0)\n",
    "\n",
    "text = load_text()\n",
    "\n",
    "tokenizer = Tokenizer(num_words=vocab_size)\n",
    "tokenizer.fit_on_texts([text])\n",
    "text = tokenizer.texts_to_sequences([text])[0]\n",
    "X, Y = split_into_samples(text)\n",
    "\n",
    "print(f\"{len(tokenizer.word_index)} total words\")\n",
    "print(f\"{len(X)} samples\")\n",
    "Y = to_categorical(Y, num_classes=vocab_size)\n"
   ]
  },
  {
   "cell_type": "markdown",
   "metadata": {},
   "source": [
    "## LSTM Model\n",
    "Uses GloVe word embeddings"
   ]
  },
  {
   "cell_type": "code",
   "execution_count": 88,
   "metadata": {},
   "outputs": [],
   "source": [
    "import matplotlib.pyplot as plt\n",
    "import tensorflow.keras\n",
    "from tensorflow.keras.layers import Input, LSTM, Dense, Embedding, Dropout\n",
    "from tensorflow.keras.models import Model"
   ]
  },
  {
   "cell_type": "code",
   "execution_count": 98,
   "metadata": {},
   "outputs": [],
   "source": [
    "def get_embedding_weights(tokenizer):\n",
    "    # code based on Deep Learning with Python, 6.1.3\n",
    "    glove_file = 'glove.6B.100d.txt'\n",
    "    \n",
    "    embedding_index = {}\n",
    "    \n",
    "    with open(glove_file) as f:\n",
    "        for line in f:\n",
    "            values = line.split()\n",
    "            word = values[0]\n",
    "            embedding_index[word] = np.asarray(values[1:], dtype='float32')\n",
    "            \n",
    "    embedding_dim = 100 # should match glove filename\n",
    "    \n",
    "    embedding_matrix = np.zeros((vocab_size, embedding_dim))\n",
    "    \n",
    "    not_found = []\n",
    "    \n",
    "    for word, i in tokenizer.word_index.items():\n",
    "        if i < vocab_size:\n",
    "            embedding_vector = embedding_index.get(word)\n",
    "            if embedding_vector is not None:\n",
    "                embedding_matrix[i] = embedding_vector\n",
    "                continue\n",
    "\n",
    "            # try common 's and plural endings\n",
    "            word = word.replace('\\'s', '')\n",
    "            embedding_vector = embedding_index.get(word)\n",
    "            if embedding_vector is not None:\n",
    "                embedding_matrix[i] = embedding_vector\n",
    "                continue\n",
    "\n",
    "            if word.endswith('s'):\n",
    "                word = word[:-1]\n",
    "                embedding_vector = embedding_index.get(word)\n",
    "                if embedding_vector is not None:\n",
    "                    embedding_matrix[i] = embedding_vector\n",
    "                    continue\n",
    "                \n",
    "            not_found.append(word)\n",
    "                \n",
    "    print(f\"Not found: {len(not_found)}\\n{not_found}\")\n",
    "                \n",
    "    return embedding_matrix"
   ]
  },
  {
   "cell_type": "code",
   "execution_count": 99,
   "metadata": {
    "scrolled": true
   },
   "outputs": [
    {
     "name": "stdout",
     "output_type": "stream",
     "text": [
      "Not found: 371\n",
      "['eoh', \"you're\", \"you'll\", \"that'll\", \"you've\", \"don't\", \"didn't\", \"can't\", \"won't\", \"aren't\", \"they're\", \"i'm\", 'selfie', \"we're\", 'emoji', \"doesn't\", \"you'd\", \"isn't\", \"couldn't\", \"we'll\", 'emoji', \"shouldn't\", \"haven't\", \"kids'\", \"wouldn't\", \"we've\", 'kylo', 'delevingne', 'cringeworthy', \"wasn't\", 'screencap', \"styles'\", \"girls'\", \"who've\", \"weren't\", 'selfie', \"they've\", \"it'll\", 'shamer', \"freshers'\", 'disick', 'boyega', 'shondaland', \"celebrities'\", \"nyong'o\", 'himym', 'instagrammed', \"o'\", 'nsfw', 'skyrim', 'furiosa', 'fuckboy', \"characters'\", 'fuckboy', \"they'd\", 'sweary', '5so', \"i've\", 'adulting', \"lil'\", \"who'll\", 'oitnb', 'swoonworthy', 'abuelita', 'pentatonix', 'photobombed', \"girlfriends'\", 'unsee', 'snapchatted', \"he'd\", \"she'd\", 'bellassai', 'batshit', 'fetty', 'oscarssowhite', 'blowingly', 'instafamou', \"could've\", 'germophobe', \"parents'\", \"freakin'\", 'retweeted', 'purrfect', 'burtka', 'shoutyourabortion', 'falkor', 'blaxican', 'bodypump', 'healthyish', 'twerking', \"i'd\", 'butterbeer', \"critics'\", 'sassiest', 'buffay', 'dreamforce', \"jones'\", \"hadn't\", 'shadowhunter', 'dilf', 'atsume', 'raddest', 'freeheld', 'snapchatter', 'fka', \"dogs'\", 'cking', 'pube', 'binx', \"ta'rhonda\", \"williams'\", 'imgur', 'catcaller', \"reynolds'\", 'sweatily', 'collab', 'omfg', \"hudgens'\", \"they'll\", 'flyest', 'dgaf', \"spears'\", 'duraghistoryweek', 'bitchface', 'meninist', \"witches'\", \"sudeikis'\", 'dumezweni', 'everdeen', 'butterfree', 'sneakerhead', 'bodycon', 'htgawm', 'ooey', 'howsadam', 'avada', 'kedavra', 'bangable', 'cemita', \"'kalyeserye'\", 'guyshadow', 'rottie', 'ambivert', 'maslany', 'crafternoon', 'heartwarmingly', 'vikander', 'awnt', 'linkle', 'photobomb', 'fangirl', 'relationshipgoal', \"'o'\", 'durarara', 'instagrammer', 'mouthwateringly', 'michelada', 'ahhhhhhh', 'catcalled', \"comedians'\", 'graffitiing', 'thinkstock', 'fluffiest', 'muslimid', 'blackdotcampaign', 'monstah', 'instagramming', 'haleb', 'spaleb', 'masturbator', \"'gram\", 'llanfairpwllgwyngyllgogerychwyrndrobwllllantysiliogogogoch', 'youporn', 'frustation', \"why'd\", \"might've\", 'ddlj', 'gfy', 'mikaelson', 'shittiest', 'staycation', 'nerdily', \"cyrus'\", 'andromedon', 'fangirl', \"stars'\", 'overthinker', 'dogles', 'redditor', 'netflixlisten', 'protomartyr', 'bakchod', 'amigurumi', 'screwable', 'snoke', 'popeful', 'bullsh', 'sengi', 'freethenipple', 'sanitiser', '11k', 'dickhead', 'timelapse', 'depressiongram', \"playin'\", \"i'ma\", 'zizmor', \"'million\", \"listing'\", 'bodycombat', 'unrelatable', 'mellark', 'vaping', \"'ol\", 'abuelita', 'friendsgiving', 'ralphio', \"badon't\", 'chillest', \"tatums'\", 'ratajkowski', \"survivors'\", '2k15', 'rivia', 'mumbaikar', 'chennairain', \"rides'\", 'screengrab', 'lohanthony', \"friends'\", 'santacon', 'haikyuu', 'vacay', 'threatline', 'ungirly', 'wittle', 'tize', 'theler', 'cringiest', 'bathtime', 'frimfram', 'fittlesworth', 'chickentweet', 'shitfaced', 'hajmola', 'rellena', 'dubsmash', 'memefacturing', 'vape', 'kandee', 'piecaken', \"who'd\", 'bestie', 'adulty', 'aboulhosn', \"5'8\", 'pornhub', 'pectation', 'wurtzbach', 'campingwithdog', 'bulleit', 'germophobe', 'daveed', \"clubs'\", 'kengi', 'aritzia', \"pickles'\", 'keeso', \"davis'\", \"biggs'\", 'lumbersexual', 'yaaaaaa', \"killin'\", 'perfecly', 'joseline', 'hbic', \"rockin'\", 'wikihow', 'clapback', \"gon'\", 'eyepatche', 'verklempt', 'chrisley', 'neuroatypical', 'payaso', 'blondeney', 'brunetteney', 'shittier', \"villagers'\", 'germaphobe', 'jenkem', 'bolognaise', 'emetophobia', 'paddleboarded', 'netflixphshow', 'outrageosly', \"dreyfus'\", 'wittrock', 'photoshopping', 'shitter', 'powerofmakeup', 'champurrado', 'sanderino', 'goldendoodle', 'boglin', 'misophonia', \"feelin'\", 'kkt', 'kocoum', 'missuniverseintro', 'subtweeting', 'belieber', 'directioner', 'tbh', \"rollin'\", 'toastie', 'growinguptheoldestchild', 'squintern', 'nkotb', 'funsie', 'hardsie', 'duckface', \"bfs'\", 'maslany', 'buffay', 'zomg', 'pottermore', 'maach', 'parseltongue', \"fools'\", 'strengthtosayno', 'katycat', 'dnce', 'mancan', 'mommed', 'juppiter', 'sideboob', 'parineeti', 'vaped', 'scarie', 'punniest', 'germaphobe', 'squadgoal', 'urbanoutfittersbelike', 'jasleen', 'sploot', 'fomo', \"wives'\", 'purrfection', 'spicest', 'longbottomed', 'rewatching', 'rewatched', 'undertale', 'geotag', 'delevigne', 'curlingly', 'regrammed', 'galavant', 'curviest', 'potterhead', 'potsticker', 'blackgirlmagic', \"actors'\", 'polysexual', 'boobed', 'geeking', 'onychophagia', 'shopkin', 'spoooooooky', 'cheeto']\n"
     ]
    }
   ],
   "source": [
    "embedding_weights = get_embedding_weights(tokenizer)"
   ]
  },
  {
   "cell_type": "code",
   "execution_count": 102,
   "metadata": {},
   "outputs": [],
   "source": [
    "def create_model(sample_length, vocab_size, embedding_weights):\n",
    "    input_layer = Input(shape=(sample_length,))\n",
    "    \n",
    "    m = Embedding(vocab_size, 100, input_length=sample_length)(input_layer)\n",
    "    m = LSTM(256, dropout=0.5, recurrent_dropout=0.5, return_sequences=True)(m)\n",
    "    m = LSTM(256, dropout=0.5, recurrent_dropout=0.5)(m)\n",
    "    m = Dense(500, activation='relu')(m)\n",
    "    m = Dropout(0.5)(m)\n",
    "    m = Dense(vocab_size, activation='softmax')(m)\n",
    "    \n",
    "    model = Model(inputs=[input_layer], outputs=m)\n",
    "    \n",
    "    model.layers[1].set_weights([embedding_weights])\n",
    "    model.layers[1].trainable = False\n",
    "    \n",
    "    return model\n",
    "\n",
    "def make_plots(history):\n",
    "    acc = history.history['accuracy']\n",
    "    val_acc = history.history['val_accuracy']\n",
    "    loss = history.history['loss']\n",
    "    val_loss = history.history['val_loss']\n",
    "    \n",
    "    epochs = range(1, len(acc) + 1)\n",
    "    \n",
    "    plt.plot(epochs, acc, 'bo', label='Training accuracy')\n",
    "    plt.plot(epochs, val_acc, 'b', label='Validation accuracy')\n",
    "    plt.title('Accuracy')\n",
    "    plt.legend()\n",
    "    \n",
    "    plt.figure()\n",
    "    plt.plot(epochs, loss, 'bo', label='Training loss')\n",
    "    plt.plot(epochs, val_loss, 'b', label='Validation loss')\n",
    "    plt.title('Loss')\n",
    "    plt.legend()\n",
    "    \n",
    "    plt.show()"
   ]
  },
  {
   "cell_type": "code",
   "execution_count": 103,
   "metadata": {},
   "outputs": [
    {
     "name": "stdout",
     "output_type": "stream",
     "text": [
      "Model: \"model_4\"\n",
      "_________________________________________________________________\n",
      "Layer (type)                 Output Shape              Param #   \n",
      "=================================================================\n",
      "input_5 (InputLayer)         [(None, 10)]              0         \n",
      "_________________________________________________________________\n",
      "embedding_4 (Embedding)      (None, 10, 100)           1000000   \n",
      "_________________________________________________________________\n",
      "lstm_8 (LSTM)                (None, 10, 256)           365568    \n",
      "_________________________________________________________________\n",
      "lstm_9 (LSTM)                (None, 256)               525312    \n",
      "_________________________________________________________________\n",
      "dense_8 (Dense)              (None, 500)               128500    \n",
      "_________________________________________________________________\n",
      "dropout_4 (Dropout)          (None, 500)               0         \n",
      "_________________________________________________________________\n",
      "dense_9 (Dense)              (None, 10000)             5010000   \n",
      "=================================================================\n",
      "Total params: 7,029,380\n",
      "Trainable params: 6,029,380\n",
      "Non-trainable params: 1,000,000\n",
      "_________________________________________________________________\n"
     ]
    }
   ],
   "source": [
    "model = create_model(sample_length, vocab_size, embedding_weights)\n",
    "model.compile(optimizer='adam', loss='categorical_crossentropy', metrics=['accuracy'])\n",
    "model.summary()"
   ]
  },
  {
   "cell_type": "code",
   "execution_count": 104,
   "metadata": {},
   "outputs": [
    {
     "name": "stdout",
     "output_type": "stream",
     "text": [
      "Train on 82777 samples, validate on 4357 samples\n",
      "Epoch 1/20\n",
      "82777/82777 [==============================] - 87s 1ms/sample - loss: 6.8016 - accuracy: 0.0905 - val_loss: 6.5376 - val_accuracy: 0.0936\n",
      "Epoch 2/20\n",
      "82777/82777 [==============================] - 85s 1ms/sample - loss: 6.5282 - accuracy: 0.0986 - val_loss: 6.2302 - val_accuracy: 0.1203\n",
      "Epoch 3/20\n",
      "82777/82777 [==============================] - 87s 1ms/sample - loss: 6.1874 - accuracy: 0.1228 - val_loss: 5.9562 - val_accuracy: 0.1373\n",
      "Epoch 4/20\n",
      "82777/82777 [==============================] - 89s 1ms/sample - loss: 5.9448 - accuracy: 0.1352 - val_loss: 5.7818 - val_accuracy: 0.1554\n",
      "Epoch 5/20\n",
      "82777/82777 [==============================] - 89s 1ms/sample - loss: 5.7516 - accuracy: 0.1487 - val_loss: 5.6674 - val_accuracy: 0.1657\n",
      "Epoch 6/20\n",
      "82777/82777 [==============================] - 91s 1ms/sample - loss: 5.5927 - accuracy: 0.1597 - val_loss: 5.5631 - val_accuracy: 0.1815\n",
      "Epoch 7/20\n",
      "82777/82777 [==============================] - 92s 1ms/sample - loss: 5.4578 - accuracy: 0.1686 - val_loss: 5.5122 - val_accuracy: 0.1882\n",
      "Epoch 8/20\n",
      "82777/82777 [==============================] - 91s 1ms/sample - loss: 5.3357 - accuracy: 0.1751 - val_loss: 5.4631 - val_accuracy: 0.1962\n",
      "Epoch 9/20\n",
      "82777/82777 [==============================] - 91s 1ms/sample - loss: 5.2205 - accuracy: 0.1816 - val_loss: 5.4088 - val_accuracy: 0.1999\n",
      "Epoch 10/20\n",
      "82777/82777 [==============================] - 92s 1ms/sample - loss: 5.1117 - accuracy: 0.1882 - val_loss: 5.3973 - val_accuracy: 0.2068\n",
      "Epoch 11/20\n",
      "82777/82777 [==============================] - 91s 1ms/sample - loss: 5.0137 - accuracy: 0.1931 - val_loss: 5.3684 - val_accuracy: 0.2139\n",
      "Epoch 12/20\n",
      "82777/82777 [==============================] - 91s 1ms/sample - loss: 4.9192 - accuracy: 0.1978 - val_loss: 5.3704 - val_accuracy: 0.2164\n",
      "Epoch 13/20\n",
      "82777/82777 [==============================] - 92s 1ms/sample - loss: 4.8407 - accuracy: 0.2022 - val_loss: 5.3748 - val_accuracy: 0.2203\n",
      "Epoch 14/20\n",
      "82777/82777 [==============================] - 92s 1ms/sample - loss: 4.7546 - accuracy: 0.2048 - val_loss: 5.4398 - val_accuracy: 0.2247\n",
      "Epoch 15/20\n",
      "82777/82777 [==============================] - 93s 1ms/sample - loss: 4.6774 - accuracy: 0.2096 - val_loss: 5.4074 - val_accuracy: 0.2261\n",
      "Epoch 16/20\n",
      "82777/82777 [==============================] - 108s 1ms/sample - loss: 4.6036 - accuracy: 0.2121 - val_loss: 5.4682 - val_accuracy: 0.2297\n",
      "Epoch 17/20\n",
      "82777/82777 [==============================] - 109s 1ms/sample - loss: 4.5361 - accuracy: 0.2140 - val_loss: 5.4790 - val_accuracy: 0.2323\n",
      "Epoch 18/20\n",
      "82777/82777 [==============================] - 100s 1ms/sample - loss: 4.4696 - accuracy: 0.2161 - val_loss: 5.5382 - val_accuracy: 0.2320\n",
      "Epoch 19/20\n",
      "82777/82777 [==============================] - 92s 1ms/sample - loss: 4.4087 - accuracy: 0.2177 - val_loss: 5.5815 - val_accuracy: 0.2341\n",
      "Epoch 20/20\n",
      "82777/82777 [==============================] - 91s 1ms/sample - loss: 4.3456 - accuracy: 0.2207 - val_loss: 5.6286 - val_accuracy: 0.2346\n"
     ]
    }
   ],
   "source": [
    "history = model.fit(X, Y, batch_size=200, epochs=15, validation_split=0.05)\n",
    "# model.save_weights('model.h5')"
   ]
  },
  {
   "cell_type": "code",
   "execution_count": 149,
   "metadata": {},
   "outputs": [
    {
     "data": {
      "image/png": "[encoded data removed]",
      "text/plain": [
       "<Figure size 432x288 with 1 Axes>"
      ]
     },
     "metadata": {
      "needs_background": "light"
     },
     "output_type": "display_data"
    },
    {
     "data": {
      "image/png": "[encoded data removed]",
      "text/plain": [
       "<Figure size 432x288 with 1 Axes>"
      ]
     },
     "metadata": {
      "needs_background": "light"
     },
     "output_type": "display_data"
    }
   ],
   "source": [
    "make_plots(history)"
   ]
  },
  {
   "cell_type": "markdown",
   "metadata": {},
   "source": [
    "## Prediction"
   ]
  },
  {
   "cell_type": "code",
   "execution_count": 116,
   "metadata": {},
   "outputs": [],
   "source": [
    "# temperature sampling based on Deep Learning book\n",
    "def sample(preds, temperature):\n",
    "    preds = np.asarray(preds).astype('float64')\n",
    "    preds = np.log(preds) / temperature\n",
    "    exp_preds = np.exp(preds)\n",
    "    preds = exp_preds / np.sum(exp_preds)\n",
    "    probs = np.random.multinomial(1, preds, 1)\n",
    "    return np.argmax(probs)\n",
    "\n",
    "def generate_seq(model, tokenizer, seq_length, seed_text, n_words, temperature = 0.5):\n",
    "    result = seed_text.split()\n",
    "    in_text = seed_text\n",
    "    # generate a fixed number of words\n",
    "    for _ in range(n_words):\n",
    "        # encode the text as integer\n",
    "        encoded = tokenizer.texts_to_sequences([in_text])[0]\n",
    "        # truncate sequences to a fixed length\n",
    "        encoded = pad_sequences([encoded], maxlen=seq_length, truncating='pre')\n",
    "        # predict probabilities for each word\n",
    "        preds = model.predict(encoded, verbose=0)\n",
    "        yhat = sample(preds[0], temperature)\n",
    "        # map predicted word index to word\n",
    "        out_word = 'X'\n",
    "        for word, index in tokenizer.word_index.items():\n",
    "            if index == yhat:\n",
    "                out_word = word\n",
    "                break\n",
    "        if out_word == end_of_headline:\n",
    "            break\n",
    "        # append to input\n",
    "        in_text += ' ' + out_word\n",
    "        result.append(out_word)\n",
    "    return ' '.join(result)"
   ]
  },
  {
   "cell_type": "code",
   "execution_count": 148,
   "metadata": {},
   "outputs": [
    {
     "name": "stdout",
     "output_type": "stream",
     "text": [
      "0 a man had the most way that happened when you have a friends\n",
      "1 this is what happens when you ate in a first time\n",
      "2 why to make your favorite crush day\n",
      "3 are you more like at the actor from the first time\n",
      "4 a blanket\n",
      "5 is the most underrated thing you've ever seen\n",
      "6 is the best way you've ever take\n",
      "7 this is what i with your best friend\n",
      "8 the best thing to say about you\n",
      "9 how much do you remember the first time\n"
     ]
    }
   ],
   "source": [
    "for i in range(0,10):\n",
    "    output = generate_seq(model, tokenizer, sample_length, \"\", 20, .5)\n",
    "    print(f\"{i} {output}\")"
   ]
  },
  {
   "cell_type": "markdown",
   "metadata": {},
   "source": [
    "## Results\n",
    "My favorite results so far\n",
    "- we know your zodiac sign based on your zodiac sign\n",
    "- are you more like more dog or a dog\n",
    "- the 17 most important canadian celebrity moments of 2015\n",
    "- this is what it's like when you have a boyfriend\n",
    "- the new best thing you've ever been\n",
    "- are you more best or the most mermaid\n",
    "- this is what it's like to be a best of the world\n",
    "- these women are actually super\n",
    "- here's how to make a vampire\n",
    "- can you guess your favorite '90s movie based on your favorite kitten\n",
    "- are you more a canadian or taylor swift or oprah"
   ]
  },
  {
   "cell_type": "code",
   "execution_count": null,
   "metadata": {},
   "outputs": [],
   "source": []
  }
 ],
 "metadata": {
  "kernelspec": {
   "display_name": "Python 3",
   "language": "python",
   "name": "python3"
  },
  "language_info": {
   "codemirror_mode": {
    "name": "ipython",
    "version": 3
   },
   "file_extension": ".py",
   "mimetype": "text/x-python",
   "name": "python",
   "nbconvert_exporter": "python",
   "pygments_lexer": "ipython3",
   "version": "3.7.5"
  }
 },
 "nbformat": 4,
 "nbformat_minor": 4
}
