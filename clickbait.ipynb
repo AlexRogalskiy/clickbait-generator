{
 "cells": [
  {
   "cell_type": "markdown",
   "metadata": {},
   "source": [
    "# Clickbait Generator\n",
    "Give me those clicks!!!\n",
    "Data taken from https://github.com/bhargaviparanjape/clickbait"
   ]
  },
  {
   "cell_type": "markdown",
   "metadata": {},
   "source": [
    "## Data Collection\n",
    "1. Download source file\n",
    "2. Extract archive"
   ]
  },
  {
   "cell_type": "code",
   "execution_count": 1,
   "metadata": {},
   "outputs": [],
   "source": [
    "import os\n",
    "import requests"
   ]
  },
  {
   "cell_type": "code",
   "execution_count": 2,
   "metadata": {},
   "outputs": [],
   "source": [
    "data_file = \"clickbait.gz\"\n",
    "\n",
    "def download_data():\n",
    "    \n",
    "    if os.path.exists(data_file):\n",
    "        print(\"Found data file, not downloading\")\n",
    "        return\n",
    "    \n",
    "    print(\"Downloading data...\")\n",
    "    \n",
    "    zip_file = requests.get(\"https://raw.githubusercontent.com/bhargaviparanjape/clickbait/master/dataset/clickbait_data.gz\")\n",
    "\n",
    "    with open(data_file, \"wb+\") as f:\n",
    "        f.write(zip_file.content)\n",
    "        \n",
    "\n",
    "    "
   ]
  },
  {
   "cell_type": "code",
   "execution_count": 3,
   "metadata": {},
   "outputs": [
    {
     "name": "stdout",
     "output_type": "stream",
     "text": [
      "Found data file, not downloading\n"
     ]
    }
   ],
   "source": [
    "download_data()"
   ]
  },
  {
   "cell_type": "markdown",
   "metadata": {},
   "source": [
    "## Data Processing\n",
    "1. Extract archived data\n",
    "2. Tokenize titles\n",
    "3. Split into X and Y data"
   ]
  },
  {
   "cell_type": "code",
   "execution_count": 4,
   "metadata": {},
   "outputs": [],
   "source": [
    "from tensorflow.keras.preprocessing.text import Tokenizer\n",
    "from tensorflow.keras.preprocessing.sequence import pad_sequences\n",
    "from tensorflow.keras.utils import to_categorical\n",
    "import gzip\n",
    "import numpy as np\n",
    "\n",
    "vocab_size = 6000\n",
    "sample_length = 10"
   ]
  },
  {
   "cell_type": "code",
   "execution_count": 5,
   "metadata": {},
   "outputs": [],
   "source": [
    "def split_into_samples(titles):\n",
    "    samples = []\n",
    "    next_words = []\n",
    "    \n",
    "    for title in titles:\n",
    "        \n",
    "        if len(title) <= 2:\n",
    "            continue\n",
    "\n",
    "        samples.append(title[:-1])\n",
    "        next_words.append(title[-1])\n",
    "        \n",
    "    return np.asarray(samples), np.asarray(next_words)"
   ]
  },
  {
   "cell_type": "code",
   "execution_count": 9,
   "metadata": {},
   "outputs": [
    {
     "name": "stdout",
     "output_type": "stream",
     "text": [
      "15999 total titles\n",
      "count = 5642\n",
      "12112 total words\n"
     ]
    }
   ],
   "source": [
    "np.random.seed(0)\n",
    "\n",
    "titles = []\n",
    "with gzip.open(data_file, 'rt') as f:\n",
    "    for line in f:\n",
    "        if line != '\\n':\n",
    "            titles.append(line)\n",
    "print(f\"{len(titles)} total titles\")\n",
    "\n",
    "tokenizer = Tokenizer(num_words=vocab_size)\n",
    "tokenizer.fit_on_texts(titles)\n",
    "sequences = tokenizer.texts_to_sequences(titles)\n",
    "count = 0\n",
    "for s in sequences:\n",
    "    if len(s) > 10:\n",
    "        count += 1\n",
    "        \n",
    "print(f\"count = {count}\")\n",
    "print(f\"{len(tokenizer.word_index)} total words\")\n",
    "sequences = pad_sequences(sequences, maxlen=sample_length + 1) # add an extra 1 for the next word\n",
    "\n",
    "X, Y = split_into_samples(sequences)\n",
    "Y = to_categorical(Y, num_classes=vocab_size)\n"
   ]
  },
  {
   "cell_type": "markdown",
   "metadata": {},
   "source": [
    "## LSTM Model\n",
    "Uses GloVe word embeddings"
   ]
  },
  {
   "cell_type": "code",
   "execution_count": 40,
   "metadata": {},
   "outputs": [],
   "source": [
    "import matplotlib.pyplot as plt\n",
    "import tensorflow.keras\n",
    "from tensorflow.keras.layers import Input, LSTM, Dense, Embedding, Dropout\n",
    "from tensorflow.keras.models import Model"
   ]
  },
  {
   "cell_type": "code",
   "execution_count": 43,
   "metadata": {},
   "outputs": [],
   "source": [
    "def get_embedding_weights(tokenizer):\n",
    "    # code based on Deep Learning with Python, 6.1.3\n",
    "    glove_file = 'glove.6B.100d.txt'\n",
    "    \n",
    "    embedding_index = {}\n",
    "    \n",
    "    with open(glove_file) as f:\n",
    "        for line in f:\n",
    "            values = line.split()\n",
    "            word = values[0]\n",
    "            embedding_index[word] = np.asarray(values[1:], dtype='float32')\n",
    "            \n",
    "    embedding_dim = 100 # should match glove filename\n",
    "    \n",
    "    embedding_matrix = np.zeros((vocab_size, embedding_dim))\n",
    "    \n",
    "    not_found = []\n",
    "    \n",
    "    for word, i in tokenizer.word_index.items():\n",
    "        if i < vocab_size:\n",
    "            embedding_vector = embedding_index.get(word)\n",
    "            if embedding_vector is not None:\n",
    "                embedding_matrix[i] = embedding_vector\n",
    "            else:\n",
    "                not_found.append(word)\n",
    "                \n",
    "    print(f\"Not found: {len(not_found)}\\n{not_found}\")\n",
    "                \n",
    "    return embedding_matrix"
   ]
  },
  {
   "cell_type": "code",
   "execution_count": 44,
   "metadata": {},
   "outputs": [
    {
     "name": "stdout",
     "output_type": "stream",
     "text": [
      "Not found: 282\n",
      "[\"here's\", \"you're\", \"it's\", \"you'll\", \"what's\", \"that'll\", \"you've\", \"don't\", \"didn't\", \"can't\", \"won't\", \"valentine's\", \"who's\", \"'00s\", \"aren't\", \"year's\", \"they're\", \"i'm\", \"there's\", \"adele's\", 'selfie', \"we're\", 'emoji', \"doesn't\", \"she's\", \"let's\", \"you'd\", \"isn't\", \"couldn't\", \"that's\", \"swift's\", \"we'll\", 'emojis', \"he's\", \"buzzfeed's\", \"victoria's\", \"india's\", \"mcdonald's\", 'instagrams', \"shouldn't\", \"bieber's\", \"everyone's\", 'diys', \"men's\", \"women's\", \"gaga's\", 'snapchats', \"jenner's\", \"haven't\", \"man's\", \"world's\", \"people's\", \"america's\", \"guy's\", \"kids'\", \"wouldn't\", \"grey's\", \"we've\", 'kylo', 'delevingne', 'cringeworthy', \"drake's\", \"kardashian's\", \"wasn't\", \"lawrence's\", 'screencap', \"woman's\", \"girl's\", \"bob's\", \"children's\", \"disney's\", \"styles'\", \"couple's\", \"girls'\", \"who've\", \"weren't\", \"2015's\", \"today's\", 'selfies', \"malik's\", \"they've\", \"santa's\", \"it'll\", 'shamers', \"freshers'\", 'disick', \"other's\", \"week's\", 'boyega', \"kid's\", \"canada's\", 'shondaland', \"west's\", \"joe's\", \"poehler's\", \"trump's\", \"celebrities'\", \"nyong'o\", \"apple's\", \"direction's\", 'himym', \"bowie's\", \"mom's\", \"rose's\", \"kanye's\", 'instagrammed', \"khaled's\", \"rupaul's\", \"son's\", 'gryffindors', \"o'\", \"daughter's\", \"where's\", 'shibas', \"family's\", \"artist's\", 'nsfw', \"chopra's\", 'skyrim', \"wife's\", 'furiosa', \"ansari's\", 'fuckboy', \"characters'\", 'fuckboys', 'hoverboards', \"they'd\", 'sweary', \"veteran's\", \"m's\", \"pope's\", 'sexts', \"hilton's\", '5sos', \"i've\", \"lover's\", 'adulting', \"facebook's\", \"nyc's\", \"lil'\", \"comedian's\", \"fan's\", \"obama's\", \"someone's\", \"clinton's\", \"who'll\", 'oitnb', \"macy's\", 'swoonworthy', \"bf's\", \"grande's\", 'abuelita', 'pentatonix', \"lively's\", 'photobombed', \"minaj's\", \"duff's\", \"girlfriends'\", \"friend's\", \"dawson's\", 'unsee', \"hadid's\", 'snapchatted', \"destiny's\", \"dicaprio's\", \"zendaya's\", \"he'd\", \"nando's\", \"dad's\", \"she'd\", \"hardy's\", \"perry's\", \"doctor's\", 'bellassai', \"gomez's\", 'batshit', \"fisher's\", 'fetty', \"human's\", \"knope's\", 'slytherins', \"pixar's\", \"model's\", 'oscarssowhite', \"labeouf's\", \"clifford's\", \"celebrity's\", 'blowingly', \"rubik's\", \"davis's\", 'kegels', \"jackson's\", \"avery's\", \"scott's\", \"pakistan's\", \"romance's\", \"hollywood's\", 'instafamous', \"could've\", \"weeknd's\", 'germophobe', \"parents'\", \"freakin'\", 'retweeted', \"nbc's\", 'purrfect', \"summer's\", 'burtka', 'shoutyourabortion', 'falkor', \"miranda's\", 'blaxicans', \"bollywood's\", \"disco's\", \"krasinski's\", 'bodypump', 'healthyish', \"wendy's\", \"gosling's\", 'twerking', \"dude's\", \"i'd\", \"oprah's\", 'butterbeer', \"critics'\", \"rickman's\", 'sassiest', 'buffay', \"beckham's\", 'dreamforce', \"ciara's\", \"green's\", \"jones'\", \"hadn't\", 'shadowhunters', \"television's\", \"night's\", 'dilf', \"david's\", \"pitt's\", 'atsume', \"smith's\", \"niro's\", 'raddest', \"london's\", \"odom's\", \"iman's\", 'freeheld', \"fallon's\", 'snapchatter', 'fka', \"government's\", \"europe's\", \"person's\", \"history's\", \"sign's\", \"grandmother's\", \"bride's\", 'airbnbs', \"mac's\", \"netflix's\", \"dogs'\", 'cking', \"boyfriend's\", 'pubes', 'binx', \"ramsay's\", \"toronto's\", \"ta'rhonda\", \"williams'\", \"else's\", \"father's\", 'imgur', \"nobody's\", 'catcallers', \"radcliffe's\", \"reynolds'\", \"skywalker's\", \"museum's\", \"bff's\", \"snapchat's\", \"internet's\"]\n"
     ]
    }
   ],
   "source": [
    "embedding_weights = get_embedding_weights(tokenizer)"
   ]
  },
  {
   "cell_type": "code",
   "execution_count": 48,
   "metadata": {},
   "outputs": [],
   "source": [
    "def create_model(sample_length, vocab_size, embedding_weights):\n",
    "    input_layer = Input(shape=(sample_length,))\n",
    "    \n",
    "    m = Embedding(vocab_size, 100, input_length=sample_length)(input_layer)\n",
    "    m = LSTM(128, dropout=0.5, return_sequences=True)(m)\n",
    "    m = LSTM(128, dropout=0.5)(m)\n",
    "    m = Dense(500, activation='relu')(m)\n",
    "    m = Dropout(0.5)(m)\n",
    "    m = Dense(vocab_size, activation='softmax')(m)\n",
    "    \n",
    "    model = Model(inputs=[input_layer], outputs=m)\n",
    "    \n",
    "    model.layers[1].set_weights([embedding_weights])\n",
    "    model.layers[1].trainable = False\n",
    "    \n",
    "    return model\n",
    "\n",
    "def make_plots(history):\n",
    "    acc = history.history['accuracy']\n",
    "    val_acc = history.history['val_accuracy']\n",
    "    loss = history.history['loss']\n",
    "    val_loss = history.history['val_loss']\n",
    "    \n",
    "    epochs = range(1, len(acc) + 1)\n",
    "    \n",
    "    plt.plot(epochs, acc, 'bo', label='Training accuracy')\n",
    "    plt.plot(epochs, val_acc, 'b', label='Validation accuracy')\n",
    "    plt.title('Accuracy')\n",
    "    plt.legend()\n",
    "    \n",
    "    plt.figure()\n",
    "    plt.plot(epochs, loss, 'bo', label='Training loss')\n",
    "    plt.plot(epochs, val_loss, 'b', label='Validation loss')\n",
    "    plt.title('Loss')\n",
    "    plt.legend()\n",
    "    \n",
    "    plt.show()"
   ]
  },
  {
   "cell_type": "code",
   "execution_count": 66,
   "metadata": {},
   "outputs": [
    {
     "name": "stdout",
     "output_type": "stream",
     "text": [
      "Model: \"model_7\"\n",
      "_________________________________________________________________\n",
      "Layer (type)                 Output Shape              Param #   \n",
      "=================================================================\n",
      "input_9 (InputLayer)         [(None, 10)]              0         \n",
      "_________________________________________________________________\n",
      "embedding_8 (Embedding)      (None, 10, 100)           600000    \n",
      "_________________________________________________________________\n",
      "lstm_16 (LSTM)               (None, 10, 128)           117248    \n",
      "_________________________________________________________________\n",
      "lstm_17 (LSTM)               (None, 128)               131584    \n",
      "_________________________________________________________________\n",
      "dense_15 (Dense)             (None, 500)               64500     \n",
      "_________________________________________________________________\n",
      "dropout_4 (Dropout)          (None, 500)               0         \n",
      "_________________________________________________________________\n",
      "dense_16 (Dense)             (None, 6000)              3006000   \n",
      "=================================================================\n",
      "Total params: 3,919,332\n",
      "Trainable params: 3,319,332\n",
      "Non-trainable params: 600,000\n",
      "_________________________________________________________________\n"
     ]
    }
   ],
   "source": [
    "model = create_model(sample_length, vocab_size, embedding_weights)\n",
    "model.compile(optimizer='adam', loss='categorical_crossentropy', metrics=['accuracy'])\n",
    "model.summary()"
   ]
  },
  {
   "cell_type": "code",
   "execution_count": 67,
   "metadata": {},
   "outputs": [
    {
     "name": "stdout",
     "output_type": "stream",
     "text": [
      "Train on 15199 samples, validate on 800 samples\n",
      "Epoch 1/100\n",
      "15199/15199 [==============================] - 8s 559us/sample - loss: 7.6088 - accuracy: 0.0303 - val_loss: 7.2773 - val_accuracy: 0.0275\n",
      "Epoch 2/100\n",
      "15199/15199 [==============================] - 6s 391us/sample - loss: 7.1079 - accuracy: 0.0331 - val_loss: 7.2472 - val_accuracy: 0.0275\n",
      "Epoch 3/100\n",
      "15199/15199 [==============================] - 6s 395us/sample - loss: 7.0217 - accuracy: 0.0327 - val_loss: 7.1994 - val_accuracy: 0.0275\n",
      "Epoch 4/100\n",
      "15199/15199 [==============================] - 6s 395us/sample - loss: 6.9713 - accuracy: 0.0345 - val_loss: 7.1276 - val_accuracy: 0.0300\n",
      "Epoch 5/100\n",
      "15199/15199 [==============================] - 6s 398us/sample - loss: 6.8889 - accuracy: 0.0484 - val_loss: 7.0408 - val_accuracy: 0.0700\n",
      "Epoch 6/100\n",
      "15199/15199 [==============================] - 6s 395us/sample - loss: 6.7329 - accuracy: 0.0642 - val_loss: 6.9179 - val_accuracy: 0.0862\n",
      "Epoch 7/100\n",
      "15199/15199 [==============================] - 6s 395us/sample - loss: 6.5244 - accuracy: 0.0774 - val_loss: 6.7092 - val_accuracy: 0.1125\n",
      "Epoch 8/100\n",
      "15199/15199 [==============================] - 6s 394us/sample - loss: 6.3393 - accuracy: 0.0913 - val_loss: 6.6482 - val_accuracy: 0.1262\n",
      "Epoch 9/100\n",
      "15199/15199 [==============================] - 6s 402us/sample - loss: 6.1528 - accuracy: 0.1043 - val_loss: 6.5849 - val_accuracy: 0.1425\n",
      "Epoch 10/100\n",
      "15199/15199 [==============================] - 6s 397us/sample - loss: 5.9702 - accuracy: 0.1124 - val_loss: 6.6070 - val_accuracy: 0.1425\n",
      "Epoch 11/100\n",
      "15199/15199 [==============================] - 6s 407us/sample - loss: 5.7978 - accuracy: 0.1222 - val_loss: 6.5208 - val_accuracy: 0.1513\n",
      "Epoch 12/100\n",
      "15199/15199 [==============================] - 6s 396us/sample - loss: 5.6491 - accuracy: 0.1303 - val_loss: 6.5319 - val_accuracy: 0.1500\n",
      "Epoch 13/100\n",
      "15199/15199 [==============================] - 6s 397us/sample - loss: 5.5152 - accuracy: 0.1357 - val_loss: 6.5289 - val_accuracy: 0.1600\n",
      "Epoch 14/100\n",
      "15199/15199 [==============================] - 6s 405us/sample - loss: 5.3791 - accuracy: 0.1394 - val_loss: 6.6150 - val_accuracy: 0.1675\n",
      "Epoch 15/100\n",
      "15199/15199 [==============================] - 6s 393us/sample - loss: 5.2485 - accuracy: 0.1467 - val_loss: 6.6186 - val_accuracy: 0.1700\n",
      "Epoch 16/100\n",
      "15199/15199 [==============================] - 6s 405us/sample - loss: 5.1410 - accuracy: 0.1525 - val_loss: 6.6469 - val_accuracy: 0.1700\n",
      "Epoch 17/100\n",
      "15199/15199 [==============================] - 6s 396us/sample - loss: 5.0185 - accuracy: 0.1584 - val_loss: 6.6743 - val_accuracy: 0.1737\n",
      "Epoch 18/100\n",
      "15199/15199 [==============================] - 6s 405us/sample - loss: 4.9106 - accuracy: 0.1598 - val_loss: 6.7671 - val_accuracy: 0.1813\n",
      "Epoch 19/100\n",
      "15199/15199 [==============================] - 6s 395us/sample - loss: 4.7902 - accuracy: 0.1692 - val_loss: 6.8978 - val_accuracy: 0.1850\n",
      "Epoch 20/100\n",
      "15199/15199 [==============================] - 6s 402us/sample - loss: 4.6927 - accuracy: 0.1755 - val_loss: 6.8989 - val_accuracy: 0.1900\n",
      "Epoch 21/100\n",
      "15199/15199 [==============================] - 6s 397us/sample - loss: 4.5908 - accuracy: 0.1725 - val_loss: 7.0635 - val_accuracy: 0.1800\n",
      "Epoch 22/100\n",
      "15199/15199 [==============================] - 6s 409us/sample - loss: 4.4988 - accuracy: 0.1851 - val_loss: 7.0605 - val_accuracy: 0.1887\n",
      "Epoch 23/100\n",
      "15199/15199 [==============================] - 6s 405us/sample - loss: 4.4013 - accuracy: 0.1852 - val_loss: 7.1756 - val_accuracy: 0.1950\n",
      "Epoch 24/100\n",
      "15199/15199 [==============================] - 6s 401us/sample - loss: 4.2842 - accuracy: 0.1945 - val_loss: 7.2877 - val_accuracy: 0.1925\n",
      "Epoch 25/100\n",
      "15199/15199 [==============================] - 6s 406us/sample - loss: 4.1984 - accuracy: 0.2004 - val_loss: 7.3238 - val_accuracy: 0.2013\n",
      "Epoch 26/100\n",
      "15199/15199 [==============================] - 6s 397us/sample - loss: 4.1106 - accuracy: 0.2071 - val_loss: 7.4520 - val_accuracy: 0.1988\n",
      "Epoch 27/100\n",
      "15199/15199 [==============================] - 6s 408us/sample - loss: 4.0090 - accuracy: 0.2172 - val_loss: 7.5285 - val_accuracy: 0.1963\n",
      "Epoch 28/100\n",
      "15199/15199 [==============================] - 6s 407us/sample - loss: 3.9183 - accuracy: 0.2192 - val_loss: 7.6206 - val_accuracy: 0.2062\n",
      "Epoch 29/100\n",
      "15199/15199 [==============================] - 6s 403us/sample - loss: 3.8325 - accuracy: 0.2263 - val_loss: 7.6335 - val_accuracy: 0.2000\n",
      "Epoch 30/100\n",
      "15199/15199 [==============================] - 6s 402us/sample - loss: 3.7552 - accuracy: 0.2363 - val_loss: 7.7544 - val_accuracy: 0.2075\n",
      "Epoch 31/100\n",
      "15199/15199 [==============================] - 6s 400us/sample - loss: 3.6775 - accuracy: 0.2438 - val_loss: 7.7914 - val_accuracy: 0.2050\n",
      "Epoch 32/100\n",
      "15199/15199 [==============================] - 6s 418us/sample - loss: 3.5818 - accuracy: 0.2532 - val_loss: 7.9344 - val_accuracy: 0.2050\n",
      "Epoch 33/100\n",
      "15199/15199 [==============================] - 6s 398us/sample - loss: 3.5255 - accuracy: 0.2617 - val_loss: 7.9670 - val_accuracy: 0.2125\n",
      "Epoch 34/100\n",
      "15199/15199 [==============================] - 6s 422us/sample - loss: 3.4640 - accuracy: 0.2683 - val_loss: 8.0110 - val_accuracy: 0.2188\n",
      "Epoch 35/100\n",
      "15199/15199 [==============================] - 6s 400us/sample - loss: 3.3670 - accuracy: 0.2767 - val_loss: 8.0712 - val_accuracy: 0.2200\n",
      "Epoch 36/100\n",
      "15199/15199 [==============================] - 6s 416us/sample - loss: 3.3066 - accuracy: 0.2838 - val_loss: 8.2119 - val_accuracy: 0.2200\n",
      "Epoch 37/100\n",
      "15199/15199 [==============================] - 7s 430us/sample - loss: 3.2436 - accuracy: 0.2933 - val_loss: 8.2761 - val_accuracy: 0.2237\n",
      "Epoch 38/100\n",
      "15199/15199 [==============================] - 6s 408us/sample - loss: 3.1738 - accuracy: 0.2958 - val_loss: 8.2949 - val_accuracy: 0.2262\n",
      "Epoch 39/100\n",
      "15199/15199 [==============================] - 6s 421us/sample - loss: 3.1220 - accuracy: 0.3058 - val_loss: 8.3847 - val_accuracy: 0.2225\n",
      "Epoch 40/100\n",
      "15199/15199 [==============================] - 6s 427us/sample - loss: 3.0538 - accuracy: 0.3168 - val_loss: 8.4986 - val_accuracy: 0.2225\n",
      "Epoch 41/100\n",
      "15199/15199 [==============================] - 6s 417us/sample - loss: 2.9809 - accuracy: 0.3335 - val_loss: 8.4825 - val_accuracy: 0.2237\n",
      "Epoch 42/100\n",
      "15199/15199 [==============================] - 7s 436us/sample - loss: 2.9347 - accuracy: 0.3361 - val_loss: 8.6792 - val_accuracy: 0.2188\n",
      "Epoch 43/100\n",
      "15199/15199 [==============================] - 7s 434us/sample - loss: 2.8626 - accuracy: 0.3496 - val_loss: 8.7370 - val_accuracy: 0.2225\n",
      "Epoch 44/100\n",
      "15199/15199 [==============================] - 7s 457us/sample - loss: 2.8258 - accuracy: 0.3515 - val_loss: 8.7700 - val_accuracy: 0.2250\n",
      "Epoch 45/100\n",
      "15199/15199 [==============================] - 6s 421us/sample - loss: 2.7564 - accuracy: 0.3629 - val_loss: 8.8753 - val_accuracy: 0.2300\n",
      "Epoch 46/100\n",
      "15199/15199 [==============================] - 6s 425us/sample - loss: 2.6946 - accuracy: 0.3740 - val_loss: 8.9297 - val_accuracy: 0.2288\n",
      "Epoch 47/100\n",
      "15199/15199 [==============================] - 7s 451us/sample - loss: 2.6817 - accuracy: 0.3767 - val_loss: 9.0519 - val_accuracy: 0.2250\n",
      "Epoch 48/100\n",
      "15199/15199 [==============================] - 6s 411us/sample - loss: 2.6222 - accuracy: 0.3856 - val_loss: 8.9905 - val_accuracy: 0.2275\n",
      "Epoch 49/100\n",
      "15199/15199 [==============================] - 6s 416us/sample - loss: 2.5507 - accuracy: 0.3969 - val_loss: 9.1817 - val_accuracy: 0.2387\n",
      "Epoch 50/100\n",
      "15199/15199 [==============================] - 7s 469us/sample - loss: 2.5118 - accuracy: 0.4002 - val_loss: 9.2032 - val_accuracy: 0.2325\n",
      "Epoch 51/100\n",
      "15199/15199 [==============================] - 7s 428us/sample - loss: 2.4840 - accuracy: 0.4102 - val_loss: 9.2288 - val_accuracy: 0.2288\n",
      "Epoch 52/100\n",
      "15199/15199 [==============================] - 7s 446us/sample - loss: 2.4445 - accuracy: 0.4101 - val_loss: 9.2261 - val_accuracy: 0.2300\n",
      "Epoch 53/100\n",
      "15199/15199 [==============================] - 6s 419us/sample - loss: 2.3915 - accuracy: 0.4212 - val_loss: 9.4665 - val_accuracy: 0.2275\n",
      "Epoch 54/100\n",
      "15199/15199 [==============================] - 6s 410us/sample - loss: 2.3653 - accuracy: 0.4279 - val_loss: 9.4919 - val_accuracy: 0.2300\n",
      "Epoch 55/100\n",
      "15199/15199 [==============================] - 7s 435us/sample - loss: 2.3041 - accuracy: 0.4380 - val_loss: 9.5549 - val_accuracy: 0.2288\n",
      "Epoch 56/100\n",
      "15199/15199 [==============================] - 6s 400us/sample - loss: 2.2822 - accuracy: 0.4429 - val_loss: 9.5476 - val_accuracy: 0.2288\n",
      "Epoch 57/100\n",
      "15199/15199 [==============================] - 6s 400us/sample - loss: 2.2618 - accuracy: 0.4494 - val_loss: 9.6448 - val_accuracy: 0.2325\n",
      "Epoch 58/100\n",
      "15199/15199 [==============================] - 7s 436us/sample - loss: 2.2169 - accuracy: 0.4570 - val_loss: 9.6959 - val_accuracy: 0.2350\n",
      "Epoch 59/100\n",
      "15199/15199 [==============================] - 6s 398us/sample - loss: 2.1804 - accuracy: 0.4607 - val_loss: 9.7581 - val_accuracy: 0.2362\n",
      "Epoch 60/100\n",
      "15199/15199 [==============================] - 6s 407us/sample - loss: 2.1490 - accuracy: 0.4657 - val_loss: 9.8529 - val_accuracy: 0.2300\n",
      "Epoch 61/100\n",
      "15199/15199 [==============================] - 7s 432us/sample - loss: 2.1160 - accuracy: 0.4724 - val_loss: 9.7827 - val_accuracy: 0.2288\n",
      "Epoch 62/100\n",
      "15199/15199 [==============================] - 6s 411us/sample - loss: 2.0881 - accuracy: 0.4769 - val_loss: 9.8941 - val_accuracy: 0.2338\n",
      "Epoch 63/100\n",
      "15199/15199 [==============================] - 6s 421us/sample - loss: 2.0404 - accuracy: 0.4874 - val_loss: 9.8622 - val_accuracy: 0.2313\n",
      "Epoch 64/100\n",
      "15199/15199 [==============================] - 7s 461us/sample - loss: 2.0155 - accuracy: 0.4962 - val_loss: 9.8591 - val_accuracy: 0.2338\n",
      "Epoch 65/100\n",
      "15199/15199 [==============================] - 7s 443us/sample - loss: 2.0060 - accuracy: 0.4889 - val_loss: 9.9600 - val_accuracy: 0.2362\n",
      "Epoch 66/100\n",
      "15199/15199 [==============================] - 7s 436us/sample - loss: 1.9728 - accuracy: 0.5002 - val_loss: 10.1277 - val_accuracy: 0.2400\n",
      "Epoch 67/100\n",
      "15199/15199 [==============================] - 6s 419us/sample - loss: 1.9422 - accuracy: 0.5073 - val_loss: 10.1770 - val_accuracy: 0.2438\n",
      "Epoch 68/100\n",
      "15199/15199 [==============================] - 6s 419us/sample - loss: 1.8969 - accuracy: 0.5187 - val_loss: 10.2747 - val_accuracy: 0.2288\n",
      "Epoch 69/100\n",
      "15199/15199 [==============================] - 7s 453us/sample - loss: 1.8920 - accuracy: 0.5160 - val_loss: 10.2374 - val_accuracy: 0.2362\n",
      "Epoch 70/100\n",
      "15199/15199 [==============================] - 7s 435us/sample - loss: 1.8715 - accuracy: 0.5260 - val_loss: 10.1987 - val_accuracy: 0.2362\n",
      "Epoch 71/100\n",
      "15199/15199 [==============================] - 6s 423us/sample - loss: 1.8270 - accuracy: 0.5270 - val_loss: 10.3689 - val_accuracy: 0.2325\n",
      "Epoch 72/100\n",
      "15199/15199 [==============================] - 7s 451us/sample - loss: 1.8225 - accuracy: 0.5287 - val_loss: 10.3828 - val_accuracy: 0.2375\n",
      "Epoch 73/100\n",
      "15199/15199 [==============================] - 6s 423us/sample - loss: 1.8093 - accuracy: 0.5349 - val_loss: 10.4788 - val_accuracy: 0.2438\n",
      "Epoch 74/100\n",
      "15199/15199 [==============================] - 6s 423us/sample - loss: 1.7700 - accuracy: 0.5415 - val_loss: 10.5744 - val_accuracy: 0.2362\n",
      "Epoch 75/100\n",
      "15199/15199 [==============================] - 7s 448us/sample - loss: 1.7491 - accuracy: 0.5441 - val_loss: 10.5003 - val_accuracy: 0.2400\n",
      "Epoch 76/100\n",
      "15199/15199 [==============================] - 6s 427us/sample - loss: 1.7256 - accuracy: 0.5521 - val_loss: 10.6326 - val_accuracy: 0.2450\n",
      "Epoch 77/100\n",
      "15199/15199 [==============================] - 6s 427us/sample - loss: 1.7157 - accuracy: 0.5536 - val_loss: 10.7133 - val_accuracy: 0.2313\n",
      "Epoch 78/100\n",
      "15199/15199 [==============================] - 7s 441us/sample - loss: 1.6882 - accuracy: 0.5617 - val_loss: 10.6803 - val_accuracy: 0.2325\n",
      "Epoch 79/100\n",
      "15199/15199 [==============================] - 6s 417us/sample - loss: 1.6674 - accuracy: 0.5657 - val_loss: 10.8124 - val_accuracy: 0.2325\n",
      "Epoch 80/100\n",
      "15199/15199 [==============================] - 6s 416us/sample - loss: 1.6657 - accuracy: 0.5573 - val_loss: 10.7200 - val_accuracy: 0.2313\n",
      "Epoch 81/100\n",
      "15199/15199 [==============================] - 7s 459us/sample - loss: 1.6199 - accuracy: 0.5753 - val_loss: 10.8250 - val_accuracy: 0.2325\n",
      "Epoch 82/100\n",
      "15199/15199 [==============================] - 6s 428us/sample - loss: 1.6173 - accuracy: 0.5702 - val_loss: 10.9429 - val_accuracy: 0.2325\n",
      "Epoch 83/100\n",
      "15199/15199 [==============================] - 6s 425us/sample - loss: 1.5821 - accuracy: 0.5804 - val_loss: 10.9491 - val_accuracy: 0.2300\n",
      "Epoch 84/100\n",
      "15199/15199 [==============================] - 7s 446us/sample - loss: 1.5766 - accuracy: 0.5802 - val_loss: 11.0535 - val_accuracy: 0.2338\n",
      "Epoch 85/100\n",
      "15199/15199 [==============================] - 6s 415us/sample - loss: 1.5639 - accuracy: 0.5852 - val_loss: 11.0177 - val_accuracy: 0.2362\n",
      "Epoch 86/100\n",
      "15199/15199 [==============================] - 6s 424us/sample - loss: 1.5517 - accuracy: 0.5867 - val_loss: 11.1217 - val_accuracy: 0.2425\n",
      "Epoch 87/100\n",
      "15199/15199 [==============================] - 7s 442us/sample - loss: 1.5481 - accuracy: 0.5906 - val_loss: 11.1072 - val_accuracy: 0.2350\n",
      "Epoch 88/100\n",
      "15199/15199 [==============================] - 6s 419us/sample - loss: 1.5264 - accuracy: 0.5934 - val_loss: 11.1808 - val_accuracy: 0.2338\n",
      "Epoch 89/100\n",
      "15199/15199 [==============================] - 7s 430us/sample - loss: 1.5141 - accuracy: 0.6022 - val_loss: 11.1032 - val_accuracy: 0.2325\n",
      "Epoch 90/100\n",
      "15199/15199 [==============================] - 7s 447us/sample - loss: 1.4942 - accuracy: 0.6006 - val_loss: 11.1022 - val_accuracy: 0.2362\n",
      "Epoch 91/100\n",
      "15199/15199 [==============================] - 6s 420us/sample - loss: 1.4778 - accuracy: 0.6033 - val_loss: 11.2116 - val_accuracy: 0.2275\n",
      "Epoch 92/100\n",
      "15199/15199 [==============================] - 7s 435us/sample - loss: 1.4650 - accuracy: 0.6067 - val_loss: 11.2504 - val_accuracy: 0.2288\n",
      "Epoch 93/100\n",
      "15199/15199 [==============================] - 7s 451us/sample - loss: 1.4497 - accuracy: 0.6084 - val_loss: 11.4273 - val_accuracy: 0.2375\n",
      "Epoch 94/100\n",
      "15199/15199 [==============================] - 6s 418us/sample - loss: 1.4192 - accuracy: 0.6169 - val_loss: 11.4563 - val_accuracy: 0.2350\n",
      "Epoch 95/100\n",
      "15199/15199 [==============================] - 6s 427us/sample - loss: 1.4237 - accuracy: 0.6177 - val_loss: 11.3681 - val_accuracy: 0.2362\n",
      "Epoch 96/100\n",
      "15199/15199 [==============================] - 7s 451us/sample - loss: 1.4087 - accuracy: 0.6196 - val_loss: 11.4821 - val_accuracy: 0.2338\n",
      "Epoch 97/100\n",
      "15199/15199 [==============================] - 6s 414us/sample - loss: 1.3856 - accuracy: 0.6223 - val_loss: 11.5744 - val_accuracy: 0.2313\n",
      "Epoch 98/100\n",
      "15199/15199 [==============================] - 6s 424us/sample - loss: 1.3851 - accuracy: 0.6261 - val_loss: 11.6227 - val_accuracy: 0.2275\n",
      "Epoch 99/100\n",
      "15199/15199 [==============================] - 7s 474us/sample - loss: 1.3861 - accuracy: 0.6266 - val_loss: 11.5660 - val_accuracy: 0.2338\n",
      "Epoch 100/100\n",
      "15199/15199 [==============================] - 6s 424us/sample - loss: 1.3621 - accuracy: 0.6323 - val_loss: 11.6377 - val_accuracy: 0.2325\n"
     ]
    }
   ],
   "source": [
    "history = model.fit(X, Y, batch_size=200, epochs=20, validation_split=0.05)"
   ]
  },
  {
   "cell_type": "code",
   "execution_count": 68,
   "metadata": {},
   "outputs": [
    {
     "data": {
      "image/png": "[encoded data removed]",
      "text/plain": [
       "<Figure size 432x288 with 1 Axes>"
      ]
     },
     "metadata": {
      "needs_background": "light"
     },
     "output_type": "display_data"
    },
    {
     "data": {
      "image/png": "[encoded data removed]",
      "text/plain": [
       "<Figure size 432x288 with 1 Axes>"
      ]
     },
     "metadata": {
      "needs_background": "light"
     },
     "output_type": "display_data"
    }
   ],
   "source": [
    "make_plots(history)"
   ]
  },
  {
   "cell_type": "markdown",
   "metadata": {},
   "source": [
    "## Prediction"
   ]
  },
  {
   "cell_type": "code",
   "execution_count": 69,
   "metadata": {},
   "outputs": [],
   "source": [
    "# temperature sampling based on Deep Learning book\n",
    "def sample(preds, temperature):\n",
    "    preds = np.asarray(preds).astype('float64')\n",
    "    preds = np.log(preds) / temperature\n",
    "    exp_preds = np.exp(preds)\n",
    "    preds = exp_preds / np.sum(exp_preds)\n",
    "    probs = np.random.multinomial(1, preds, 1)\n",
    "    return np.argmax(probs)\n",
    "\n",
    "def generate_seq(model, tokenizer, seq_length, seed_text, n_words, temperature = 0.5):\n",
    "    result = list()\n",
    "    in_text = seed_text\n",
    "    # generate a fixed number of words\n",
    "    for _ in range(n_words):\n",
    "        # encode the text as integer\n",
    "        encoded = tokenizer.texts_to_sequences([in_text])[0]\n",
    "        # truncate sequences to a fixed length\n",
    "        encoded = pad_sequences([encoded], maxlen=seq_length, truncating='pre')\n",
    "        # predict probabilities for each word\n",
    "        preds = model.predict(encoded, verbose=0)\n",
    "        yhat = sample(preds[0], temperature)\n",
    "        # map predicted word index to word\n",
    "        out_word = ''\n",
    "        for word, index in tokenizer.word_index.items():\n",
    "            if index == yhat:\n",
    "                out_word = word\n",
    "                break\n",
    "        # append to input\n",
    "        in_text += ' ' + out_word\n",
    "        result.append(out_word)\n",
    "    return ' '.join(result)"
   ]
  },
  {
   "cell_type": "code",
   "execution_count": 71,
   "metadata": {},
   "outputs": [
    {
     "name": "stdout",
     "output_type": "stream",
     "text": [
      "0 try pies reindeer nails test you\n",
      "1  that disney words you actually\n",
      "2 that a problems bear or you\n",
      "3  block problems try spell a\n",
      "4 try tinder forts mansion hacks flavors\n",
      "5 that breakfast words you actually have\n",
      "6  request princess 3 the leftovers\n",
      "7 problems lovely of her costumes crush\n",
      "8   problems try pies breakfast\n",
      "9 request request school ladies of a\n"
     ]
    }
   ],
   "source": [
    "for i in range(0,10):\n",
    "    output = generate_seq(model, tokenizer, sample_length, \"\", 6, 1)\n",
    "    print(f\"{i} {output}\")"
   ]
  },
  {
   "cell_type": "code",
   "execution_count": null,
   "metadata": {},
   "outputs": [],
   "source": []
  },
  {
   "cell_type": "code",
   "execution_count": null,
   "metadata": {},
   "outputs": [],
   "source": []
  }
 ],
 "metadata": {
  "kernelspec": {
   "display_name": "Python 3",
   "language": "python",
   "name": "python3"
  },
  "language_info": {
   "codemirror_mode": {
    "name": "ipython",
    "version": 3
   },
   "file_extension": ".py",
   "mimetype": "text/x-python",
   "name": "python",
   "nbconvert_exporter": "python",
   "pygments_lexer": "ipython3",
   "version": "3.7.5"
  }
 },
 "nbformat": 4,
 "nbformat_minor": 4
}
